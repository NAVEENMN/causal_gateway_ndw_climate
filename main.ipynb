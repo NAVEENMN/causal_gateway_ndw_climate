{
 "cells": [
  {
   "cell_type": "markdown",
   "id": "a002a134",
   "metadata": {},
   "source": [
    "# Verying base line for paper Identifying causal gateways and mediators in complex spatio-temporal system"
   ]
  },
  {
   "cell_type": "markdown",
   "id": "1017a6cc",
   "metadata": {},
   "source": [
    "## Abstract\n",
    "\n",
    "In a complex spatio-temporal system such as Earth's climate, extream natural event or geo engineering can have a spreading or mediating perturbations through causal gateway regions. In this article we will check accuracy and establish baseline done in this work [ 1 ](https://www.nature.com/articles/ncomms9502). We will first explore the process of data gathering, then analyize the data, reduce the dimension for processing and finally visit causal reconstruction.\n"
   ]
  },
  {
   "cell_type": "markdown",
   "id": "3155d16b",
   "metadata": {},
   "source": [
    "## Data collection\n",
    "\n",
    "Data is collected through [NOAA Physical Sciences labaratory](https://psl.noaa.gov/data/gridded/data.ncep.reanalysis.surface.html) under NCEP/NCAR Reanalysis. Since the amount of data we are dealing with is vast I have written a small script download_data.py for downloading all the data we will need through concurrent threads. It is recommened to use an external hard drive fo data collection."
   ]
  },
  {
   "cell_type": "code",
   "execution_count": 1,
   "id": "44239fec",
   "metadata": {},
   "outputs": [
    {
     "name": "stdout",
     "output_type": "stream",
     "text": [
      "download_data\n"
     ]
    }
   ],
   "source": [
    "print('download_data')"
   ]
  },
  {
   "cell_type": "markdown",
   "id": "6a7c44b3",
   "metadata": {},
   "source": [
    "## Data analysis\n",
    "\n",
    "The data we collected in the previous step are in cdf format and we will use python netCDF4 package to handle the data. In climate research, spatio-temporal data sets are typically given on a regular grid. Here we consider a reanalysis data set of surface pressures for period 9448-2012. At a resolution of $2.5^o$ in latitude and longitude. As an introductory data analysis we will also consider surface air temperature data."
   ]
  },
  {
   "cell_type": "code",
   "execution_count": 2,
   "id": "7b9cf3a3",
   "metadata": {},
   "outputs": [],
   "source": [
    "# documentation: https://unidata.github.io/netcdf4-python/\n",
    "import pandas as pd\n",
    "import datetime\n",
    "from netCDF4 import Dataset\n",
    "d = Dataset('/Users/naveenmysore/Downloads/air.1948.nc')"
   ]
  },
  {
   "cell_type": "code",
   "execution_count": 7,
   "id": "06eef9f4",
   "metadata": {},
   "outputs": [
    {
     "name": "stdout",
     "output_type": "stream",
     "text": [
      "--------\n",
      "4x daily NMC reanalysis (1948)\n",
      "--------\n",
      "Data is from NMC initialized reanalysis\n",
      "(4x/day).  It consists of most variables interpolated to\n",
      "pressure surfaces from model (sigma) surfaces.\n",
      "--------\n",
      "{'level': <class 'netCDF4._netCDF4.Variable'>\n",
      "float32 level(level)\n",
      "    units: millibar\n",
      "    actual_range: [1000.   10.]\n",
      "    long_name: Level\n",
      "    positive: down\n",
      "    GRIB_id: 100\n",
      "    GRIB_name: hPa\n",
      "    axis: Z\n",
      "unlimited dimensions: \n",
      "current shape = (17,)\n",
      "filling on, default _FillValue of 9.969209968386869e+36 used, 'lat': <class 'netCDF4._netCDF4.Variable'>\n",
      "float32 lat(lat)\n",
      "    units: degrees_north\n",
      "    actual_range: [ 90. -90.]\n",
      "    long_name: Latitude\n",
      "    standard_name: latitude\n",
      "    axis: Y\n",
      "unlimited dimensions: \n",
      "current shape = (73,)\n",
      "filling on, default _FillValue of 9.969209968386869e+36 used, 'lon': <class 'netCDF4._netCDF4.Variable'>\n",
      "float32 lon(lon)\n",
      "    units: degrees_east\n",
      "    long_name: Longitude\n",
      "    actual_range: [  0.  357.5]\n",
      "    standard_name: longitude\n",
      "    axis: X\n",
      "unlimited dimensions: \n",
      "current shape = (144,)\n",
      "filling on, default _FillValue of 9.969209968386869e+36 used, 'time': <class 'netCDF4._netCDF4.Variable'>\n",
      "float64 time(time)\n",
      "    long_name: Time\n",
      "    delta_t: 0000-00-00 06:00:00\n",
      "    standard_name: time\n",
      "    axis: T\n",
      "    units: hours since 1800-01-01 00:00:0.0\n",
      "    actual_range: [1297320. 1306098.]\n",
      "unlimited dimensions: time\n",
      "current shape = (1464,)\n",
      "filling on, default _FillValue of 9.969209968386869e+36 used, 'air': <class 'netCDF4._netCDF4.Variable'>\n",
      "float32 air(time, level, lat, lon)\n",
      "    long_name: 4xDaily Air temperature\n",
      "    units: degK\n",
      "    precision: 2\n",
      "    least_significant_digit: 1\n",
      "    GRIB_id: 11\n",
      "    GRIB_name: TMP\n",
      "    var_desc: Air temperature\n",
      "    level_desc: Multiple levels\n",
      "    statistic: Individual Obs\n",
      "    parent_stat: Other\n",
      "    missing_value: -9.96921e+36\n",
      "    actual_range: [150.  326.3]\n",
      "    valid_range: [150. 350.]\n",
      "    dataset: NCEP Reanalysis\n",
      "unlimited dimensions: time\n",
      "current shape = (1464, 17, 73, 144)\n",
      "filling on, default _FillValue of 9.969209968386869e+36 used}\n"
     ]
    }
   ],
   "source": [
    "print(\"--------\")\n",
    "print(d.title)\n",
    "print(\"--------\")\n",
    "print(d.description)\n",
    "print(\"--------\")\n",
    "print(d.variables)"
   ]
  },
  {
   "cell_type": "code",
   "execution_count": 54,
   "id": "ea2b1820",
   "metadata": {},
   "outputs": [],
   "source": [
    "longitudes = d.variables['lon'][:]\n",
    "latitudes = d.variables['lat'][:]\n",
    "levels = d.variables['level'][:]\n",
    "time_stamps = d.variables['time'][:]\n",
    "temperatures = d.variables['air'][:]\n",
    "dates = []\n",
    "date_time = datetime.datetime(1948, 1, 1, 0, 0, 0)\n",
    "_data = []\n",
    "for i in range(0, len(time_stamps)):\n",
    "    _data.append(temperatures[i][0])\n",
    "    dates.append(date_time)\n",
    "    date_time += datetime.timedelta(hours=6)"
   ]
  },
  {
   "cell_type": "code",
   "execution_count": 55,
   "id": "6983b1ed",
   "metadata": {},
   "outputs": [
    {
     "name": "stdout",
     "output_type": "stream",
     "text": [
      "1948-01-01 00:00:00    [[237.6, 237.6, 237.6, 237.6, 237.6, 237.6, 23...\n",
      "1948-01-01 06:00:00    [[239.1, 239.1, 239.1, 239.1, 239.1, 239.1, 23...\n",
      "1948-01-01 12:00:00    [[239.00002, 239.00002, 239.00002, 239.00002, ...\n",
      "1948-01-01 18:00:00    [[239.3, 239.3, 239.3, 239.3, 239.3, 239.3, 23...\n",
      "1948-01-02 00:00:00    [[239.1, 239.1, 239.1, 239.1, 239.1, 239.1, 23...\n",
      "                                             ...                        \n",
      "1948-12-30 18:00:00    [[229.40001, 229.40001, 229.40001, 229.40001, ...\n",
      "1948-12-31 00:00:00    [[230.3, 230.3, 230.3, 230.3, 230.3, 230.3, 23...\n",
      "1948-12-31 06:00:00    [[231.1, 231.1, 231.1, 231.1, 231.1, 231.1, 23...\n",
      "1948-12-31 12:00:00    [[230.6, 230.6, 230.6, 230.6, 230.6, 230.6, 23...\n",
      "1948-12-31 18:00:00    [[230.50002, 230.50002, 230.50002, 230.50002, ...\n",
      "Name: air_temperature, Length: 1464, dtype: object\n"
     ]
    }
   ],
   "source": [
    "data = {}\n",
    "#data['latitudes'] = latitudes\n",
    "#data['longitudes'] = longitudes\n",
    "#data['levels'] = levels\n",
    "data['time_stamps'] = time_stamps\n",
    "#data['air'] = temperatures\n",
    "\n",
    "_df = pd.Series(_data, index=dates, name='air_temperature')\n",
    "print(_df) \n"
   ]
  },
  {
   "cell_type": "code",
   "execution_count": 17,
   "id": "f905a6b2",
   "metadata": {},
   "outputs": [
    {
     "name": "stdout",
     "output_type": "stream",
     "text": [
      "<class 'netCDF4._netCDF4.Variable'>\n",
      "float32 level(level)\n",
      "    units: millibar\n",
      "    actual_range: [1000.   10.]\n",
      "    long_name: Level\n",
      "    positive: down\n",
      "    GRIB_id: 100\n",
      "    GRIB_name: hPa\n",
      "    axis: Z\n",
      "unlimited dimensions: \n",
      "current shape = (17,)\n",
      "filling on, default _FillValue of 9.969209968386869e+36 used\n"
     ]
    }
   ],
   "source": [
    "print(d.variables['level'])"
   ]
  },
  {
   "cell_type": "code",
   "execution_count": 18,
   "id": "ea5cb331",
   "metadata": {},
   "outputs": [
    {
     "name": "stdout",
     "output_type": "stream",
     "text": [
      "<class 'netCDF4._netCDF4.Variable'>\n",
      "float32 air(time, level, lat, lon)\n",
      "    long_name: 4xDaily Air temperature\n",
      "    units: degK\n",
      "    precision: 2\n",
      "    least_significant_digit: 1\n",
      "    GRIB_id: 11\n",
      "    GRIB_name: TMP\n",
      "    var_desc: Air temperature\n",
      "    level_desc: Multiple levels\n",
      "    statistic: Individual Obs\n",
      "    parent_stat: Other\n",
      "    missing_value: -9.96921e+36\n",
      "    actual_range: [150.  326.3]\n",
      "    valid_range: [150. 350.]\n",
      "    dataset: NCEP Reanalysis\n",
      "unlimited dimensions: time\n",
      "current shape = (1464, 17, 73, 144)\n",
      "filling on, default _FillValue of 9.969209968386869e+36 used\n"
     ]
    }
   ],
   "source": [
    "print(d.variables['air'])"
   ]
  },
  {
   "cell_type": "code",
   "execution_count": 19,
   "id": "a34b1a44",
   "metadata": {},
   "outputs": [
    {
     "name": "stdout",
     "output_type": "stream",
     "text": [
      "261622656\n"
     ]
    }
   ],
   "source": [
    "count = 1464*17*73*144\n",
    "print(count)"
   ]
  },
  {
   "cell_type": "code",
   "execution_count": 31,
   "id": "cf47b2c2",
   "metadata": {},
   "outputs": [
    {
     "name": "stdout",
     "output_type": "stream",
     "text": [
      "73\n",
      "144\n",
      "(73, 144)\n"
     ]
    },
    {
     "ename": "KeyboardInterrupt",
     "evalue": "",
     "output_type": "error",
     "traceback": [
      "\u001b[0;31m---------------------------------------------------------------------------\u001b[0m",
      "\u001b[0;31mKeyboardInterrupt\u001b[0m                         Traceback (most recent call last)",
      "\u001b[0;32m<ipython-input-31-6a4f0b859a1d>\u001b[0m in \u001b[0;36m<module>\u001b[0;34m\u001b[0m\n\u001b[1;32m     13\u001b[0m             \u001b[0mdata\u001b[0m\u001b[0;34m[\u001b[0m\u001b[0;34m'latitude'\u001b[0m\u001b[0;34m]\u001b[0m \u001b[0;34m=\u001b[0m \u001b[0mlatitudes\u001b[0m\u001b[0;34m[\u001b[0m\u001b[0mi\u001b[0m\u001b[0;34m]\u001b[0m\u001b[0;34m\u001b[0m\u001b[0;34m\u001b[0m\u001b[0m\n\u001b[1;32m     14\u001b[0m             \u001b[0mdata\u001b[0m\u001b[0;34m[\u001b[0m\u001b[0;34m'longitude'\u001b[0m\u001b[0;34m]\u001b[0m \u001b[0;34m=\u001b[0m \u001b[0mlongitudes\u001b[0m\u001b[0;34m[\u001b[0m\u001b[0mj\u001b[0m\u001b[0;34m]\u001b[0m\u001b[0;34m\u001b[0m\u001b[0;34m\u001b[0m\u001b[0m\n\u001b[0;32m---> 15\u001b[0;31m             \u001b[0mdata\u001b[0m\u001b[0;34m[\u001b[0m\u001b[0;34m'temperature'\u001b[0m\u001b[0;34m]\u001b[0m \u001b[0;34m=\u001b[0m \u001b[0md\u001b[0m\u001b[0;34m.\u001b[0m\u001b[0mvariables\u001b[0m\u001b[0;34m[\u001b[0m\u001b[0;34m'air'\u001b[0m\u001b[0;34m]\u001b[0m\u001b[0;34m[\u001b[0m\u001b[0mk\u001b[0m\u001b[0;34m]\u001b[0m\u001b[0;34m[\u001b[0m\u001b[0;36m0\u001b[0m\u001b[0;34m]\u001b[0m\u001b[0;34m[\u001b[0m\u001b[0mi\u001b[0m\u001b[0;34m]\u001b[0m\u001b[0;34m[\u001b[0m\u001b[0mj\u001b[0m\u001b[0;34m]\u001b[0m\u001b[0;34m\u001b[0m\u001b[0;34m\u001b[0m\u001b[0m\n\u001b[0m\u001b[1;32m     16\u001b[0m             \u001b[0mdate_time\u001b[0m \u001b[0;34m+=\u001b[0m \u001b[0mdatetime\u001b[0m\u001b[0;34m.\u001b[0m\u001b[0mtimedelta\u001b[0m\u001b[0;34m(\u001b[0m\u001b[0mhours\u001b[0m\u001b[0;34m=\u001b[0m\u001b[0;36m6\u001b[0m\u001b[0;34m)\u001b[0m\u001b[0;34m\u001b[0m\u001b[0;34m\u001b[0m\u001b[0m\n\u001b[1;32m     17\u001b[0m \u001b[0mprint\u001b[0m\u001b[0;34m(\u001b[0m\u001b[0mdata\u001b[0m\u001b[0;34m)\u001b[0m\u001b[0;34m\u001b[0m\u001b[0;34m\u001b[0m\u001b[0m\n",
      "\u001b[0;32msrc/netCDF4/_netCDF4.pyx\u001b[0m in \u001b[0;36mnetCDF4._netCDF4.Variable.__getitem__\u001b[0;34m()\u001b[0m\n",
      "\u001b[0;32msrc/netCDF4/_netCDF4.pyx\u001b[0m in \u001b[0;36mnetCDF4._netCDF4.Variable._toma\u001b[0;34m()\u001b[0m\n",
      "\u001b[0;32m/usr/local/lib/python3.8/site-packages/numpy/ma/core.py\u001b[0m in \u001b[0;36m__new__\u001b[0;34m(cls, data, mask, dtype, copy, subok, ndmin, fill_value, keep_mask, hard_mask, shrink, order)\u001b[0m\n\u001b[1;32m   2836\u001b[0m             \u001b[0m_data\u001b[0m \u001b[0;34m=\u001b[0m \u001b[0mndarray\u001b[0m\u001b[0;34m.\u001b[0m\u001b[0mview\u001b[0m\u001b[0;34m(\u001b[0m\u001b[0m_data\u001b[0m\u001b[0;34m,\u001b[0m \u001b[0mtype\u001b[0m\u001b[0;34m(\u001b[0m\u001b[0mdata\u001b[0m\u001b[0;34m)\u001b[0m\u001b[0;34m)\u001b[0m\u001b[0;34m\u001b[0m\u001b[0;34m\u001b[0m\u001b[0m\n\u001b[1;32m   2837\u001b[0m         \u001b[0;32melse\u001b[0m\u001b[0;34m:\u001b[0m\u001b[0;34m\u001b[0m\u001b[0;34m\u001b[0m\u001b[0m\n\u001b[0;32m-> 2838\u001b[0;31m             \u001b[0m_data\u001b[0m \u001b[0;34m=\u001b[0m \u001b[0mndarray\u001b[0m\u001b[0;34m.\u001b[0m\u001b[0mview\u001b[0m\u001b[0;34m(\u001b[0m\u001b[0m_data\u001b[0m\u001b[0;34m,\u001b[0m \u001b[0mcls\u001b[0m\u001b[0;34m)\u001b[0m\u001b[0;34m\u001b[0m\u001b[0;34m\u001b[0m\u001b[0m\n\u001b[0m\u001b[1;32m   2839\u001b[0m         \u001b[0;31m# Backwards compatibility w/ numpy.core.ma.\u001b[0m\u001b[0;34m\u001b[0m\u001b[0;34m\u001b[0m\u001b[0;34m\u001b[0m\u001b[0m\n\u001b[1;32m   2840\u001b[0m         \u001b[0;32mif\u001b[0m \u001b[0mhasattr\u001b[0m\u001b[0;34m(\u001b[0m\u001b[0mdata\u001b[0m\u001b[0;34m,\u001b[0m \u001b[0;34m'_mask'\u001b[0m\u001b[0;34m)\u001b[0m \u001b[0;32mand\u001b[0m \u001b[0;32mnot\u001b[0m \u001b[0misinstance\u001b[0m\u001b[0;34m(\u001b[0m\u001b[0mdata\u001b[0m\u001b[0;34m,\u001b[0m \u001b[0mndarray\u001b[0m\u001b[0;34m)\u001b[0m\u001b[0;34m:\u001b[0m\u001b[0;34m\u001b[0m\u001b[0;34m\u001b[0m\u001b[0m\n",
      "\u001b[0;32m/usr/local/lib/python3.8/site-packages/numpy/ma/core.py\u001b[0m in \u001b[0;36m__array_finalize__\u001b[0;34m(self, obj)\u001b[0m\n\u001b[1;32m   3005\u001b[0m             \u001b[0;31m# XX: This looks like a bug -- shouldn't it check self.dtype\u001b[0m\u001b[0;34m\u001b[0m\u001b[0;34m\u001b[0m\u001b[0;34m\u001b[0m\u001b[0m\n\u001b[1;32m   3006\u001b[0m             \u001b[0;31m# instead?\u001b[0m\u001b[0;34m\u001b[0m\u001b[0;34m\u001b[0m\u001b[0;34m\u001b[0m\u001b[0m\n\u001b[0;32m-> 3007\u001b[0;31m             \u001b[0;32mif\u001b[0m \u001b[0mobj\u001b[0m\u001b[0;34m.\u001b[0m\u001b[0mdtype\u001b[0m\u001b[0;34m.\u001b[0m\u001b[0mnames\u001b[0m \u001b[0;32mis\u001b[0m \u001b[0;32mnot\u001b[0m \u001b[0;32mNone\u001b[0m\u001b[0;34m:\u001b[0m\u001b[0;34m\u001b[0m\u001b[0;34m\u001b[0m\u001b[0m\n\u001b[0m\u001b[1;32m   3008\u001b[0m                 \u001b[0m_mask\u001b[0m \u001b[0;34m=\u001b[0m \u001b[0mgetmaskarray\u001b[0m\u001b[0;34m(\u001b[0m\u001b[0mobj\u001b[0m\u001b[0;34m)\u001b[0m\u001b[0;34m\u001b[0m\u001b[0;34m\u001b[0m\u001b[0m\n\u001b[1;32m   3009\u001b[0m             \u001b[0;32melse\u001b[0m\u001b[0;34m:\u001b[0m\u001b[0;34m\u001b[0m\u001b[0;34m\u001b[0m\u001b[0m\n",
      "\u001b[0;31mKeyboardInterrupt\u001b[0m: "
     ]
    }
   ],
   "source": [
    "data = {}\n",
    "print(len(latitudes))\n",
    "print(len(longitudes))\n",
    "date_time = datetime.datetime(1948, 1, 1, 0, 0, 0)\n",
    "\n",
    "print(d.variables['air'][0][0].shape)\n",
    "\n",
    "start = time.time()\n",
    "for k in range(0, len(times)):\n",
    "    for i in range(0, len(latitudes)):\n",
    "        for j in range(0, len(longitudes)):\n",
    "            data['time'] = date_time\n",
    "            data['time_stamp'] = times[k]\n",
    "            data['latitude'] = latitudes[i]\n",
    "            data['longitude'] = longitudes[j]\n",
    "            data['temperature'] = d.variables['air'][k][0][i][j]\n",
    "            date_time += datetime.timedelta(hours=6)\n",
    "end = time.time()\n",
    "print(f'{end - start} elapsed')\n",
    "print(data)"
   ]
  },
  {
   "cell_type": "code",
   "execution_count": null,
   "id": "96014cd9",
   "metadata": {},
   "outputs": [],
   "source": []
  }
 ],
 "metadata": {
  "kernelspec": {
   "display_name": "Python 3",
   "language": "python",
   "name": "python3"
  },
  "language_info": {
   "codemirror_mode": {
    "name": "ipython",
    "version": 3
   },
   "file_extension": ".py",
   "mimetype": "text/x-python",
   "name": "python",
   "nbconvert_exporter": "python",
   "pygments_lexer": "ipython3",
   "version": "3.8.4"
  }
 },
 "nbformat": 4,
 "nbformat_minor": 5
}
