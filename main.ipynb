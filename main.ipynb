{
 "cells": [
  {
   "cell_type": "markdown",
   "id": "e22165f5",
   "metadata": {},
   "source": [
    "# Reverifying accuracy on methods established in causal gateways and mediators in complex spatio-temporal system."
   ]
  },
  {
   "cell_type": "markdown",
   "id": "e4bc8cc1",
   "metadata": {},
   "source": [
    "## Abstract\n",
    "\n",
    "In a complex spatio-temporal system such as Earth's climate, extream natural event or geo engineering can have a spreading or mediating perturbations through causal gateway regions. In this article we will check accuracy and establish baseline done in this work [ 1 ](https://www.nature.com/articles/ncomms9502). We will first explore the process of data gathering, then analyize the data, reduce the dimension for processing and finally visit causal reconstruction.\n"
   ]
  },
  {
   "cell_type": "markdown",
   "id": "05ceae9c",
   "metadata": {},
   "source": [
    "## 1. Data collection\n",
    "\n",
    "Data is collected through [NOAA Physical Sciences labaratory](https://psl.noaa.gov/data/gridded/data.ncep.reanalysis.surface.html) under NCEP/NCAR Reanalysis. Since the amount of data we are dealing with is vast I have written a small script download_data.py for downloading all the data we will need through concurrent threads. It is recommened to use an external hard drive fo data collection."
   ]
  },
  {
   "cell_type": "code",
   "execution_count": 1,
   "id": "4800bcf1",
   "metadata": {},
   "outputs": [
    {
     "name": "stdout",
     "output_type": "stream",
     "text": [
      "download_data\n"
     ]
    }
   ],
   "source": [
    "print('download_data')"
   ]
  },
  {
   "cell_type": "markdown",
   "id": "c1732cca",
   "metadata": {},
   "source": [
    "## 2. Data analysis\n",
    "\n",
    "The data we collected in the previous step are in cdf format and we will use python netCDF4 package to handle the data. In climate research, spatio-temporal data sets are typically given on a regular grid. Here we consider a reanalysis data set of surface pressures for period 9448-2012. At a resolution of $2.5^o$ in latitude and longitude. As an introductory data analysis we will also consider surface air temperature data."
   ]
  },
  {
   "cell_type": "code",
   "execution_count": 2,
   "id": "e0d7ccba",
   "metadata": {},
   "outputs": [],
   "source": [
    "# documentation: https://unidata.github.io/netcdf4-python/\n",
    "import pandas as pd\n",
    "import geopandas\n",
    "import datetime\n",
    "from geo_data_loader import Daily4x, MonthlyMean\n",
    "from netCDF4 import Dataset"
   ]
  },
  {
   "cell_type": "code",
   "execution_count": 3,
   "id": "8b6f448c",
   "metadata": {},
   "outputs": [],
   "source": [
    "#cdf_sea_level_pressure = GeoField(netcd4_loc='/Volumes/ext_data/ncep/pres.mon.mean.nc', variable='pres', year=1960)\n",
    "#print(cdf_sea_level_pressure)\n",
    "#cdf_air_temperature = Daily4x(netcd4_loc='/Volumes/ext_data/ncep/air.sig995.1980.nc', variable='air', year=1980)\n",
    "#print(cdf_air_temperature)"
   ]
  },
  {
   "cell_type": "code",
   "execution_count": 4,
   "id": "a092f3fd",
   "metadata": {},
   "outputs": [],
   "source": [
    "#cdf_air_temperature.render(variable='air', time_slice=0)"
   ]
  },
  {
   "cell_type": "code",
   "execution_count": 8,
   "id": "4501c9f1",
   "metadata": {},
   "outputs": [
    {
     "name": "stdout",
     "output_type": "stream",
     "text": [
      "DatetimeIndex(['1948-01-31', '1948-02-29', '1948-03-31', '1948-04-30',\n",
      "               '1948-05-31', '1948-06-30', '1948-07-31', '1948-08-31',\n",
      "               '1948-09-30', '1948-10-31', '1948-11-30', '1948-12-31',\n",
      "               '1949-01-31', '1949-02-28', '1949-03-31', '1949-04-30',\n",
      "               '1949-05-31', '1949-06-30', '1949-07-31', '1949-08-31',\n",
      "               '1949-09-30', '1949-10-31', '1949-11-30', '1949-12-31'],\n",
      "              dtype='datetime64[ns]', freq='M')\n",
      "<class 'netCDF4._netCDF4.Dataset'>\n",
      "root group (NETCDF4_CLASSIC data model, file format HDF5):\n",
      "    description: Data is from NMC initialized reanalysis\n",
      "(4x/day).  These are the 0.9950 sigma level values.\n",
      "    platform: Model\n",
      "    Conventions: COARDS\n",
      "    NCO: 20121012\n",
      "    history: Thu May  4 18:13:25 2000: ncrcat -d time,0,622 /Datasets/ncep.reanalysis.derived/tropopause/pres.mon.mean.nc ./tropopause/pres.mon.mean.nc\n",
      "Mon Jul  5 21:17:23 1999: ncrcat pres.mon.mean.nc /Datasets/ncep.reanalysis.derived/tropopause/pres.mon.mean.nc ../../combinedMMs/tropopause/pres.mon.mean.nc\n",
      "/home/hoop/crdc/cpreanjuke2farm/cpreanjuke2farm Thu Oct 26 23:42:16 1995 from pre.sig995.85.nc\n",
      "created 95/02/06 by Hoop (netCDF2.3)\n",
      "Converted to chunked, deflated non-packed NetCDF4 2014/09\n",
      "    title: monthly mean pres.tropp from the NCEP Reanalysis\n",
      "    dataset_title: NCEP-NCAR Reanalysis 1\n",
      "    References: http://www.psl.noaa.gov/data/gridded/data.ncep.reanalysis.derived.html\n",
      "    dimensions(sizes): lat(73), lon(144), time(881)\n",
      "    variables(dimensions): float32 lat(lat), float32 lon(lon), float64 time(time), float32 pres(time, lat, lon)\n",
      "    groups: \n",
      "\n",
      "<class 'netCDF4._netCDF4.Variable'>\n",
      "float32 pres(time, lat, lon)\n",
      "    long_name: Monthly Mean of Pressure\n",
      "    units: millibars\n",
      "    precision: 2\n",
      "    least_significant_digit: 1\n",
      "    var_desc: Pressure\n",
      "    level_desc: Tropopause\n",
      "    statistic: Mean\n",
      "    parent_stat: Other\n",
      "    missing_value: -9.96921e+36\n",
      "    dataset: NCEP Reanalysis Derived Products\n",
      "    valid_range: [    0. 60000.]\n",
      "    actual_range: [ 85.  419.7]\n",
      "unlimited dimensions: time\n",
      "current shape = (881, 73, 144)\n",
      "filling on, default _FillValue of 9.969209968386869e+36 used\n"
     ]
    },
    {
     "data": {
      "text/plain": [
       "(73, 144)"
      ]
     },
     "execution_count": 8,
     "metadata": {},
     "output_type": "execute_result"
    }
   ],
   "source": [
    "cdf_m_slp = MonthlyMean(netcd4_loc='/Volumes/ext_data/ncep/pres.mon.mean.nc', start_year=1948, end_year=1950)\n",
    "print(cdf_m_slp)\n",
    "print(cdf_m_slp.get_data(variable='pres'))\n",
    "v = cdf_m_slp.get_data(variable='pres')\n",
    "v[0].shape"
   ]
  },
  {
   "cell_type": "code",
   "execution_count": 10,
   "id": "d056bd40-9aeb-40ae-beb6-2ad2f0822e21",
   "metadata": {},
   "outputs": [
    {
     "data": {
      "text/plain": [
       "876"
      ]
     },
     "execution_count": 10,
     "metadata": {},
     "output_type": "execute_result"
    }
   ],
   "source": [
    "(2021-1948)*12"
   ]
  },
  {
   "cell_type": "code",
   "execution_count": null,
   "id": "c264367c-41f0-473b-ac6c-68bdd0c42ee2",
   "metadata": {},
   "outputs": [],
   "source": []
  }
 ],
 "metadata": {
  "kernelspec": {
   "display_name": "Python 3",
   "language": "python",
   "name": "python3"
  },
  "language_info": {
   "codemirror_mode": {
    "name": "ipython",
    "version": 3
   },
   "file_extension": ".py",
   "mimetype": "text/x-python",
   "name": "python",
   "nbconvert_exporter": "python",
   "pygments_lexer": "ipython3",
   "version": "3.8.8"
  }
 },
 "nbformat": 4,
 "nbformat_minor": 5
}
